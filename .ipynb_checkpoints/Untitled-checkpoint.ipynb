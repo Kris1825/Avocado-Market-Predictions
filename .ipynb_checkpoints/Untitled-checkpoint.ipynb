{
 "cells": [
  {
   "cell_type": "markdown",
   "id": "8a435edf-1675-4b19-8193-30571c3d4835",
   "metadata": {},
   "source": [
    "# IMPORT DATA"
   ]
  },
  {
   "cell_type": "code",
   "execution_count": 1,
   "id": "ce3f6ef8-672b-4cb0-8546-c77654253280",
   "metadata": {},
   "outputs": [],
   "source": [
    "import pandas as pd # its like excel\n",
    "import numpy as np # statistic\n",
    "import matplotlib.pyplot as plt\n",
    "import random\n",
    "import seaborn as sns # it much momore way powerful that matplot "
   ]
  },
  {
   "cell_type": "code",
   "execution_count": null,
   "id": "19f02538-ddfa-493d-92ed-d6d1e5a68f3d",
   "metadata": {},
   "outputs": [],
   "source": []
  }
 ],
 "metadata": {
  "kernelspec": {
   "display_name": "Python [conda env:tf]",
   "language": "python",
   "name": "conda-env-tf-py"
  },
  "language_info": {
   "codemirror_mode": {
    "name": "ipython",
    "version": 3
   },
   "file_extension": ".py",
   "mimetype": "text/x-python",
   "name": "python",
   "nbconvert_exporter": "python",
   "pygments_lexer": "ipython3",
   "version": "3.10.18"
  }
 },
 "nbformat": 4,
 "nbformat_minor": 5
}
